{
 "cells": [
  {
   "cell_type": "code",
   "execution_count": 1,
   "metadata": {},
   "outputs": [],
   "source": [
    "import pandas as pd\n",
    "from openpyxl import Workbook\n",
    "import openpyxl as opx"
   ]
  },
  {
   "cell_type": "code",
   "execution_count": 4,
   "metadata": {},
   "outputs": [],
   "source": [
    "import openpyxl\n",
    "\n",
    "# 既存のエクセルファイルを開く\n",
    "file_path = \"/Users/rintaroyoda/Desktop/my_program/recruitPJ/data/housing.xlsx\"\n",
    "file_path2 = \"/Users/rintaroyoda/Desktop/my_program/recruitPJ/data/housing2.xlsx\"\n",
    "\n",
    "csv_path =  \"/Users/rintaroyoda/Desktop/my_program/recruitPJ/data/breeder_id.csv\"\n",
    "df = pd.read_csv(csv_path)\n",
    "workbook = openpyxl.load_workbook(file_path)\n",
    "\n",
    "# 新しいシートを作成\n",
    "new_sheet = workbook.create_sheet(\"新しいシート\")\n",
    "\n",
    "# 新しいシートにデータを追加（例: A1セルに\"Hello, World!\"を追加）\n",
    "# new_sheet[\"A1\"] = \"Hello, World!\"\n",
    "new_sheet = df\n",
    "\n",
    "# 変更を保存\n",
    "workbook.save(file_path2)\n",
    "\n",
    "# ファイルを閉じる\n",
    "workbook.close()\n"
   ]
  },
  {
   "cell_type": "code",
   "execution_count": 2,
   "metadata": {},
   "outputs": [],
   "source": [
    "import pandas as pd\n",
    "from openpyxl import load_workbook\n",
    "\n",
    "# 既存のエクセルファイルを読み込む\n",
    "file_path = \"/Users/rintaroyoda/Desktop/my_program/recruitPJ/data/housing.xlsx\"\n",
    "file_path2 = \"/Users/rintaroyoda/Desktop/my_program/recruitPJ/data/housing_copy.xlsx\"\n",
    "\n",
    "csv_path =  \"/Users/rintaroyoda/Desktop/my_program/recruitPJ/data/breeder_id.csv\"\n",
    "book = load_workbook(file_path)\n",
    "\n",
    "# 新しいDataFrameを作成（例として簡単なDataFrameを作成）\n",
    "data = {'Column1': [1, 2, 3, 4],\n",
    "        'Column2': ['A', 'B', 'C', 'D']}\n",
    "df = pd.DataFrame(data)\n",
    "\n",
    "\n",
    "\n",
    "# 新しいシートにDataFrameを書き込む\n",
    "with pd.ExcelWriter(file_path2, engine='openpyxl', mode='a') as writer:\n",
    "    df.to_excel(writer, sheet_name='新しいシート', index=False)\n",
    "\n"
   ]
  },
  {
   "cell_type": "code",
   "execution_count": 6,
   "metadata": {},
   "outputs": [
    {
     "data": {
      "text/plain": [
       "<openpyxl.workbook.workbook.Workbook at 0x15e803f70>"
      ]
     },
     "execution_count": 6,
     "metadata": {},
     "output_type": "execute_result"
    }
   ],
   "source": [
    "book"
   ]
  },
  {
   "cell_type": "code",
   "execution_count": null,
   "metadata": {},
   "outputs": [],
   "source": []
  }
 ],
 "metadata": {
  "kernelspec": {
   "display_name": "base",
   "language": "python",
   "name": "python3"
  },
  "language_info": {
   "codemirror_mode": {
    "name": "ipython",
    "version": 3
   },
   "file_extension": ".py",
   "mimetype": "text/x-python",
   "name": "python",
   "nbconvert_exporter": "python",
   "pygments_lexer": "ipython3",
   "version": "3.10.12"
  }
 },
 "nbformat": 4,
 "nbformat_minor": 2
}
